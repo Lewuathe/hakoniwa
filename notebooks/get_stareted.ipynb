{
 "cells": [
  {
   "cell_type": "code",
   "execution_count": 9,
   "metadata": {},
   "outputs": [],
   "source": [
    "import logging, sys\n",
    "\n",
    "from hakoniwa.environment import Environment, Context\n",
    "from hakoniwa.entity import OpenAIEntity\n",
    "\n",
    "logging.basicConfig(stream=sys.stdout, level=logging.INFO)\n",
    "openapi_key = 'YOUR_OPENAI_API_KEY'"
   ]
  },
  {
   "cell_type": "markdown",
   "metadata": {},
   "source": [
    "## Create Environment    "
   ]
  },
  {
   "cell_type": "code",
   "execution_count": 10,
   "metadata": {},
   "outputs": [],
   "source": [
    "env_file = '../examples/net_surfer.yaml'\n",
    "context = Context('./history.jsonl')\n",
    "environment = Environment.from_yaml(filename=env_file, context=context)\n"
   ]
  },
  {
   "cell_type": "markdown",
   "metadata": {},
   "source": [
    "## Add Entity"
   ]
  },
  {
   "cell_type": "code",
   "execution_count": 11,
   "metadata": {},
   "outputs": [
    {
     "name": "stdout",
     "output_type": "stream",
     "text": [
      "1\n"
     ]
    }
   ],
   "source": [
    "environment.add_entity(\n",
    "  OpenAIEntity(\n",
    "    entity_id='Persona 1',\n",
    "    apikey=openapi_key,\n",
    "    initial_state=environment.states['portal'],\n",
    "    personality='You are shopping-lover',\n",
    "  )\n",
    ")\n",
    "\n",
    "print(len(environment.entities))"
   ]
  },
  {
   "cell_type": "markdown",
   "metadata": {},
   "source": [
    "## Run Simulation"
   ]
  },
  {
   "cell_type": "code",
   "execution_count": 12,
   "metadata": {},
   "outputs": [
    {
     "name": "stdout",
     "output_type": "stream",
     "text": [
      "INFO:hakoniwa.environment:{\"iteration\": 0, \"entity_id\": \"Persona 1\", \"action\": \"Visit EC site\", \"state\": \"ec\", \"prompt\": \"\\n        Context: You are in a state 'Go to the portal'. \\n        Actions:\\n  0: Visit EC site\\n  1: Stay portal\\n\\n        \"}\n",
      "INFO:hakoniwa.environment:{\"iteration\": 1, \"entity_id\": \"Persona 1\", \"action\": \"Look for a product\", \"state\": \"ec\", \"prompt\": \"\\n        Context: You are in a state 'EC'. \\n        Actions:\\n  0: Look for a product\\n  1: checkout product 100\\n  2: checkout product 200\\n\\n        \"}\n",
      "INFO:hakoniwa.environment:{\"iteration\": 2, \"entity_id\": \"Persona 1\", \"action\": \"Look for a product\", \"state\": \"ec\", \"prompt\": \"\\n        Context: You are in a state 'EC'. \\n        Actions:\\n  0: Look for a product\\n  1: checkout product 100\\n  2: checkout product 200\\n\\n        \"}\n"
     ]
    }
   ],
   "source": [
    "for i in range(3):\n",
    "  environment.next()"
   ]
  }
 ],
 "metadata": {
  "kernelspec": {
   "display_name": ".venv",
   "language": "python",
   "name": "python3"
  },
  "language_info": {
   "codemirror_mode": {
    "name": "ipython",
    "version": 3
   },
   "file_extension": ".py",
   "mimetype": "text/x-python",
   "name": "python",
   "nbconvert_exporter": "python",
   "pygments_lexer": "ipython3",
   "version": "3.10.4"
  },
  "orig_nbformat": 4
 },
 "nbformat": 4,
 "nbformat_minor": 2
}
